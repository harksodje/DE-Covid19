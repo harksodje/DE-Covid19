{
 "cells": [
  {
   "cell_type": "code",
   "execution_count": 3,
   "metadata": {},
   "outputs": [],
   "source": [
    "import requests\n",
    "import json\n"
   ]
  },
  {
   "cell_type": "code",
   "execution_count": 17,
   "metadata": {},
   "outputs": [],
   "source": [
    "url = \"https://www.kaggle.com/datasets/sudalairajkumar/covid19-in-usa/download?datasetVersionNumber=102\"\n",
    "response = requests.get(url)\n",
    "\n",
    "with open(\"covid19-in-usa.zip\", \"wb\") as f:\n",
    "    f.write(response.content)"
   ]
  },
  {
   "cell_type": "code",
   "execution_count": 16,
   "metadata": {},
   "outputs": [
    {
     "data": {
      "text/plain": [
       "{'Content-Type': 'text/html; charset=utf-8', 'Date': 'Wed, 03 Apr 2024 13:57:14 GMT', 'Cache-Control': 'no-cache, no-store', 'Content-Encoding': 'br', 'Pragma': 'no-cache', 'Set-Cookie': 'CSRF-TOKEN=CfDJ8HCARgCySvNCja3Z4nK-CGsfMCy47hrqiBK8Zfz81ykzzaTY7XynE9l2MuYkJqHOxRqqd9VSEREMhyUazgv9MqFbuOWQ9S-LWRY8aUo36Q; path=/; secure; samesite=lax; httponly, XSRF-TOKEN=CfDJ8HCARgCySvNCja3Z4nK-CGsgAwBC8v2ty4YjonDg5Ox6jbS6Bug4EffMrWw2iAqENc5BPL1vP-xlOoClAeYYSEcLsx3WQATB8fROS7CDI1Z85w; path=/; secure; samesite=lax, CLIENT-TOKEN=eyJhbGciOiJub25lIiwidHlwIjoiSldUIn0.eyJpc3MiOiJrYWdnbGUiLCJhdWQiOiJjbGllbnQiLCJzdWIiOm51bGwsIm5idCI6IjIwMjQtMDQtMDNUMTM6NTc6MTQuODA5NzU1MFoiLCJpYXQiOiIyMDI0LTA0LTAzVDEzOjU3OjE0LjgwOTc1NTBaIiwianRpIjoiNGZjMDUwNGMtODMxNi00OWU5LThkNmEtN2Y5ZTQ0Mjg1MDljIiwiZXhwIjoiMjAyNC0wNS0wM1QxMzo1NzoxNC44MDk3NTUwWiIsImFub24iOnRydWUsImZmIjpbIkltcG9ydEtlcm5lbHNGcm9tQ29sYWIiLCJLZXJuZWxzRXhwb3J0TWV0YWRhdGEiLCJLZXJuZWxzRmlyZWJhc2VMb25nUG9sbGluZyIsIkNvbW11bml0eUxvd2VySGVhZGVyU2l6ZXMiLCJBbGxvd0ZvcnVtQXR0YWNobWVudHMiLCJGcm9udGVuZEVycm9yUmVwb3J0aW5nIiwiRGF0YXNldHNNYW5hZ2VkRm9jdXNPbk9wZW4iLCJDaGFuZ2VEYXRhc2V0T3duZXJzaGlwVG9PcmciLCJFeHBvcnREYXRhc2V0QXNDcm9pc3NhbnQiLCJLTVVzZXJQcm9maWxlIiwiTW9kZWxzQ2FjaGVkVGFnU2VydmljZUVuYWJsZWQiLCJPcmdhbml6YXRpb25zVjIiLCJEaXNjdXNzaW9uc1JlYWN0aW9ucyIsIkRhdGFzZXRVcGxvYWRlckR1cGxpY2F0ZURldGVjdGlvbiIsIk1vZGVsc0FsbG93U2V0VmlzaWJpbGl0eSIsIkRhdGFzZXRzTWV0YWRhdGFTdWdnZXN0aW9ucyIsIktlcm5lbHNPcGVuTm90ZWJvb2tJbkNvbGFiIiwiTW9kZWxzQm9va21hcmtpbmciLCJEYXJrTW9kZSIsIktlcm5lbHNEZWxldGVLZXJuZWxGcm9tRWRpdG9yIiwiTGljZW5zZVVzZVNlY29uZFJldmlzaW9uIl0sImZmZCI6eyJLZXJuZWxFZGl0b3JBdXRvc2F2ZVRocm90dGxlTXMiOiIzMDAwMCIsIkVtZXJnZW5jeUFsZXJ0QmFubmVyIjoie30iLCJDbGllbnRScGNSYXRlTGltaXRRcHMiOiI0MCIsIkNsaWVudFJwY1JhdGVMaW1pdFFwbSI6IjUwMCIsIkZlYXR1cmVkQ29tbXVuaXR5Q29tcGV0aXRpb25zIjoiNjAwOTUsNTQwMDAsNTcxNjMiLCJBZGRGZWF0dXJlRmxhZ3NUb1BhZ2VMb2FkVGFnIjoiZGlzYWJsZWQiLCJNb2RlbElkc0FsbG93SW5mZXJlbmNlIjoiMzMwMSwzNTMzIiwiTW9kZWxJbmZlcmVuY2VQYXJhbWV0ZXJzIjoieyBcIm1heF90b2tlbnNcIjogMTI4LCBcInRlbXBlcmF0dXJlXCI6IDAuNCwgXCJ0b3Bfa1wiOiA1IH0iLCJTaW1Db21wZXRpdGlvbklkc1RvSWdub3JlVXBsb2FkTGltaXQiOiI2MDI0Myw2MTI1MCIsIkNvbXBldGl0aW9uTWV0cmljVGltZW91dE1pbnV0ZXMiOiIzMCIsIkNvbXBldGl0aW9uSWRzUmVxdWlyaW5nVXNlclZlcmlmaWNhdGlvbiI6IjYyNzMzLDYyMzkwLDcwMjAzIiwiVGZIdWJLYWdnbGVBbm5vdW5jZW1lbnRVcmwiOiIvZGlzY3Vzc2lvbnMvcHJvZHVjdC1mZWVkYmFjay80NDg0MjUifSwicGlkIjoia2FnZ2xlLTE2MTYwNyIsInN2YyI6IndlYi1mZSIsInNkYWsiOiJBSXphU3lBNGVOcVVkUlJza0pzQ1pXVnotcUw2NTVYYTVKRU1yZUUiLCJibGQiOiJkMmFiNWIwNzgzMGZhMWQzNTY2ZjQ3ZWIzNDI5NDc3YmVkMWU5MTdlIn0.; path=/; secure; samesite=lax', 'Vary': 'Accept-Encoding', 'Turbolinks-Location': 'https://www.kaggle.com/account/login?titleType=dataset-downloads&showDatasetDownloadSkip=False&messageId=datasetsWelcome&returnUrl=%2Fdatasets%2Fsudalairajkumar%2Fcovid19-in-usa%2Fversions%2F102%3Fresource%3Ddownload', 'X-Frame-Options': 'SAMEORIGIN', 'Strict-Transport-Security': 'max-age=63072000; includeSubDomains; preload', 'Content-Security-Policy': \"object-src 'none'; script-src 'nonce-4oyz5KLartDFeO0VsZwV6A==' 'report-sample' 'unsafe-inline' 'unsafe-eval' 'strict-dynamic' https: http:; base-uri 'none'; report-uri https://csp.withgoogle.com/csp/kaggle/20201130; frame-src 'self' https://www.kaggleusercontent.com https://www.youtube.com/embed/ https://polygraph-cool.github.io https://www.google.com/recaptcha/ https://www.docdroid.com https://www.docdroid.net https://kaggle-static.storage.googleapis.com https://kkb-production.jupyter-proxy.kaggle.net https://kkb-production.firebaseapp.com https://kaggle-metastore.firebaseapp.com https://apis.google.com https://content-sheets.googleapis.com/ https://accounts.google.com/ https://storage.googleapis.com https://docs.google.com https://drive.google.com https://calendar.google.com/;\", 'X-Content-Type-Options': 'nosniff', 'Referrer-Policy': 'strict-origin-when-cross-origin', 'Via': '1.1 google', 'Alt-Svc': 'h3=\":443\"; ma=2592000,h3-29=\":443\"; ma=2592000', 'Transfer-Encoding': 'chunked'}"
      ]
     },
     "execution_count": 16,
     "metadata": {},
     "output_type": "execute_result"
    }
   ],
   "source": [
    "response.headers"
   ]
  },
  {
   "cell_type": "code",
   "execution_count": null,
   "metadata": {},
   "outputs": [],
   "source": [
    "import zip"
   ]
  }
 ],
 "metadata": {
  "kernelspec": {
   "display_name": "base",
   "language": "python",
   "name": "python3"
  },
  "language_info": {
   "codemirror_mode": {
    "name": "ipython",
    "version": 3
   },
   "file_extension": ".py",
   "mimetype": "text/x-python",
   "name": "python",
   "nbconvert_exporter": "python",
   "pygments_lexer": "ipython3",
   "version": "3.11.5"
  }
 },
 "nbformat": 4,
 "nbformat_minor": 2
}
